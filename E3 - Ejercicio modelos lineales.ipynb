{
 "cells": [
  {
   "cell_type": "markdown",
   "metadata": {},
   "source": [
    "# Modelos lineales (ejercicio)"
   ]
  },
  {
   "cell_type": "markdown",
   "metadata": {},
   "source": [
    "**Muy importante: comentar adecuadamente cada paso realizado**, relacionándolo con lo visto en la teoría."
   ]
  },
  {
   "cell_type": "markdown",
   "metadata": {},
   "source": [
    "## Parte 1: vectorización de textos"
   ]
  },
  {
   "cell_type": "markdown",
   "metadata": {},
   "source": [
    "En la Parte 1 y 2 parte vamos a tratar de aprender a predecir el \"sentimiento\" (positivo o negativo) de un texto. Como datos usaremos críticas de películas en la web IMDB (Internet Movie Database). Son críticas que ya vienen con la etiqueta \"pos\" o \"neg\", de acuerdo a la puntuación que acompaña a la crítica (positiva, 7 o más; negativa 4 o menos). El objetivo es ser capaz de declarar como positiva o negativa una crítica (por supuesto, sin saber la puntuación que la acompaña). \n",
    "\n",
    "En esta Parte 1 se trata de preparar los datos para que podamos aplicarle un modelo lineal de predicción. Para ello, hay que transformar los textos en vectores numéricos."
   ]
  },
  {
   "cell_type": "markdown",
   "metadata": {},
   "source": [
    "### Cargando el conjunto de entrenamiento: críticas de película en IMDB \n",
    "\n",
    "\n",
    "Antes que nada, carguemos los datos que vamos a usar para entrenar y evaluar el modelo. Los datos están disponibles en http://ai.stanford.edu/~amaas/data/sentiment/\n",
    "\n",
    "Descargar el archivo comprimido con los datos, y descomprimir, quedando la siguiente estructura: \n",
    "\n",
    "`data\n",
    "   └── aclImdb\n",
    "        ├── test\n",
    "        │   ├── neg\n",
    "        │   └── pos\n",
    "        └── train\n",
    "            ├── neg\n",
    "            └── pos`\n",
    "     \n",
    "**Nota importante**: de aquí hemos eliminado la carpeta `train/unsup`, que no usaremos."
   ]
  },
  {
   "cell_type": "markdown",
   "metadata": {},
   "source": [
    "La función `load_files` que viene en el módulo `datasets` de scikit-learn permite cargar conjuntos de datos que vienen en carpetas con esa estructura. Cuando usamos `load_files`, se devuelve lo que en scikit learn se denomina un *data bunch*, mediante podemos acceder mediante atributos a los distintos componentes de un dataset, como por ejemplo `data` (los datos), `DESCR` (la descripción), `target` (los valores esperados) y `target_names` (los nombres de las clases).  "
   ]
  },
  {
   "cell_type": "code",
   "execution_count": 1,
   "metadata": {},
   "outputs": [],
   "source": [
    "from sklearn.datasets import load_files"
   ]
  },
  {
   "cell_type": "markdown",
   "metadata": {},
   "source": [
    "Carguemos el conjunto de entrenamiento:"
   ]
  },
  {
   "cell_type": "code",
   "execution_count": 2,
   "metadata": {},
   "outputs": [],
   "source": [
    "reviews_train = load_files(\"aclImdb/train/\")"
   ]
  },
  {
   "cell_type": "code",
   "execution_count": 3,
   "metadata": {},
   "outputs": [],
   "source": [
    "text_train, y_train = reviews_train.data, reviews_train.target"
   ]
  },
  {
   "cell_type": "markdown",
   "metadata": {},
   "source": [
    "Los datos cargados están en formato de lista, cuyos elementos son strings y cada uno de ellos es un documento (en este caso una crítica a una película):"
   ]
  },
  {
   "cell_type": "code",
   "execution_count": 4,
   "metadata": {},
   "outputs": [
    {
     "name": "stdout",
     "output_type": "stream",
     "text": [
      "Tipo de text_train: <class 'list'>\n",
      "Tipo de y_train: <class 'numpy.ndarray'>\n",
      "Cantidad de textos en el conjunto de entrenamiento: 25000\n",
      "Etiquetas: ['neg', 'pos']\n"
     ]
    }
   ],
   "source": [
    "print(\"Tipo de text_train: {}\".format(type(text_train)))\n",
    "print(\"Tipo de y_train: {}\".format(type(y_train)))\n",
    "print(\"Cantidad de textos en el conjunto de entrenamiento: {}\".format(len(text_train)))\n",
    "print(\"Etiquetas: {}\".format(reviews_train.target_names))"
   ]
  },
  {
   "cell_type": "markdown",
   "metadata": {},
   "source": [
    "Veamos ejemplo de estas revisiones que acabamos de cargar. Téngase en cuenta que los valores de clasificación son 0 y 1, correspondiendo a \"neg\" y \"pos\", respectivamente:"
   ]
  },
  {
   "cell_type": "code",
   "execution_count": 5,
   "metadata": {},
   "outputs": [
    {
     "name": "stdout",
     "output_type": "stream",
     "text": [
      "text_train[6]:\n",
      "b\"This movie has a special way of telling the story, at first i found it rather odd as it jumped through time and I had no idea whats happening.<br /><br />Anyway the story line was although simple, but still very real and touching. You met someone the first time, you fell in love completely, but broke up at last and promoted a deadly agony. Who hasn't go through this? but we will never forget this kind of pain in our life. <br /><br />I would say i am rather touched as two actor has shown great performance in showing the love between the characters. I just wish that the story could be a happy ending.\"\n",
      "\n",
      "y_train[6]: 1\n",
      "\n",
      "Etiqueta asociada: pos\n"
     ]
    }
   ],
   "source": [
    "print(\"text_train[6]:\\n{}\\n\".format(text_train[6]))\n",
    "print(\"y_train[6]: {}\\n\".format(y_train[6]))\n",
    "print(\"Etiqueta asociada: {}\".format(reviews_train.target_names[y_train[6]]))"
   ]
  },
  {
   "cell_type": "code",
   "execution_count": 6,
   "metadata": {},
   "outputs": [
    {
     "name": "stdout",
     "output_type": "stream",
     "text": [
      "text_train[25]:\n",
      "b\"A chemical spill is turning people into zombies. It's up to two doctor's to survive the epidemic. It's an Andreas Schnaas film so you know what the par for the course will be. Bad acting, horribly awful special effects, and no budget to speak of. The dubbing is ridiculous with a capital R and the saddest thing is that I feel compelled to write one word about this piece of excrement, much less the ten lines mandatory because of the guidelines placed on me by IMDb. My original review of merely one word: Crap wouldn't fly so I have to revise it and go more in to how bad it is. But I don't know if I can, so.. wait I think I may have enough words, or lines rather to make this review pass. Which is cool, I guess. So in summation: This movie sucks balls, don't watch it.<br /><br />My Grade: F\"\n",
      "\n",
      "y_train[25]: 0\n",
      "\n",
      "Etiqueta asociada: neg\n"
     ]
    }
   ],
   "source": [
    "print(\"text_train[25]:\\n{}\\n\".format(text_train[25]))\n",
    "print(\"y_train[25]: {}\\n\".format(y_train[25]))\n",
    "print(\"Etiqueta asociada: {}\".format(reviews_train.target_names[y_train[25]]))"
   ]
  },
  {
   "cell_type": "markdown",
   "metadata": {},
   "source": [
    "Como se observa en los ejemplos anteriores, en los textos hay muchas etiquetas de cambio de línea en HTML, que obviamente no tienen impacto en el sentimiento que expresa el texto, así que las quitamos:"
   ]
  },
  {
   "cell_type": "code",
   "execution_count": 7,
   "metadata": {},
   "outputs": [],
   "source": [
    "text_train = [doc.replace(b\"<br />\", b\" \") for doc in text_train]"
   ]
  },
  {
   "cell_type": "markdown",
   "metadata": {},
   "source": [
    "#### Ejercicio 1 \n",
    "\n",
    "Cargar de la misma manera el conjunto de test, en variables `text_test` y `y_test`. Asimismo, contar cuántos ejemplos hay de cada clase, tanto en el conjunto de entrenamiento como en el de prueba.  "
   ]
  },
  {
   "cell_type": "markdown",
   "metadata": {},
   "source": [
    "* Primero voy a almacenar en una variable las reviews de la carpeta \"test\" en vez de las de train\n",
    "\n",
    "* Como en el apartado anterior, las reviews de las peliculas vendrán con etiquetas HTML que no nos interesan, asi que las eliminaremos\n",
    "\n",
    "* Finalmente creo una pequeña función que recorra un conjunto y detecte si una review ha sido positiva(1) o negativa(0) y aumento el contador correspondiente"
   ]
  },
  {
   "cell_type": "code",
   "execution_count": 8,
   "metadata": {},
   "outputs": [],
   "source": [
    "reviews_test = load_files(\"aclImdb/test/\")\n",
    "\n",
    "data_test, y_test = reviews_test.data, reviews_test.target\n",
    "\n",
    "text_test = [doc.replace(b\"<br />\",b\" \") for doc in data_test]\n",
    "\n",
    "def contadorNP(data):\n",
    "    pos, neg = 0, 0\n",
    "    for review in data:\n",
    "        if(review == 1):\n",
    "            pos+=1\n",
    "        else:\n",
    "            neg+=1\n",
    "    return pos,neg\n"
   ]
  },
  {
   "cell_type": "code",
   "execution_count": 9,
   "metadata": {},
   "outputs": [
    {
     "name": "stdout",
     "output_type": "stream",
     "text": [
      "_____________Conjunto de entrenamiento _________________\n",
      "Reviews totales: 25000\n",
      "Reviews positivas: 12500\n",
      "Reviews negativas: 12500\n",
      "_____________Conjunto de prueba _________________\n",
      "Reviews totales: 25000\n",
      "Reviews positivas: 12500\n",
      "Reviews negativas: 12500\n"
     ]
    }
   ],
   "source": [
    "print('_____________Conjunto de entrenamiento _________________')\n",
    "print(f\"Reviews totales: {len(text_train)}\")\n",
    "print('Reviews positivas: '+str(contadorNP(y_train)[0]))\n",
    "print('Reviews negativas: '+str(contadorNP(y_train)[1]))\n",
    "\n",
    "print('_____________Conjunto de prueba _________________')\n",
    "print(f\"Reviews totales: {len(text_test)}\")\n",
    "print('Reviews positivas: '+str(contadorNP(y_test)[0]))\n",
    "print('Reviews negativas: '+str(contadorNP(y_test)[1]))"
   ]
  },
  {
   "cell_type": "markdown",
   "metadata": {},
   "source": [
    "### Usando (y explicando) `CountVectorizer` "
   ]
  },
  {
   "cell_type": "markdown",
   "metadata": {},
   "source": [
    "Antes de poder aplicar modelos de aprendizaje a textos, debemos representar los documentos mediante vectores numéricos. La forma más fácil de hacerlo es recopilar el conjunto de palabras (o *términos*) que aparecen en los textos (el *vocabulario*), mediante un vector en el que en cada componente tenemos el número de veces que aparece en el documento, el correspondiente término del vocabulario. Esto está implementado en scikit-learn mediante la clase `CountVectorizer`."
   ]
  },
  {
   "cell_type": "markdown",
   "metadata": {},
   "source": [
    "Para prácticar previamente con ejemplo sencillo, vamos a usar `CountVectorizer` para la vectorización de las siguientes cuatro frases:"
   ]
  },
  {
   "cell_type": "code",
   "execution_count": 10,
   "metadata": {},
   "outputs": [],
   "source": [
    "cuatro_frases =[\"Cargamento de oro dañado por el fuego\",\n",
    "              \"La entrega de la plata llegó en el camión color plata\",\n",
    "              \"El cargamento de oro llegó en un camión\",\n",
    "              \"Oro, oro, oro: gritó al ver el camión\"]"
   ]
  },
  {
   "cell_type": "markdown",
   "metadata": {},
   "source": [
    "#### Ejercicio 2\n",
    "\n",
    "Tomando como conjunto de textos las cuatro frases anteriores, aplicar `CountVectorizer` para vectorizarlas, **explicando con detalle** el resultado obtenido. "
   ]
  },
  {
   "cell_type": "markdown",
   "metadata": {},
   "source": [
    " Antes de nada , lo primero que tengo que hacer es importar de sklearn CountVectorizer  y creamos una variable en la que almacenaremos (cv), esta variable será una matriz en la que tendremos un recuento del número de palabras/tokens.\n",
    " \n",
    "Luego almaceno en la variable info el countvectoricer para las 4 frases del ejemplo de arriba"
   ]
  },
  {
   "cell_type": "code",
   "execution_count": 11,
   "metadata": {},
   "outputs": [],
   "source": [
    "from sklearn.feature_extraction.text import CountVectorizer\n",
    "\n",
    "cv = CountVectorizer()\n",
    "info=cv.fit_transform(cuatro_frases)"
   ]
  },
  {
   "cell_type": "markdown",
   "metadata": {},
   "source": [
    "Ahora lo que vamos a hacer es: por una parte mostrar el vocabulario aprendido del texto (que no es más que un diccionario ) con las palabras y el indice que le damos a esta, por ejemplo: al mostrar info[3] estamos mostrando la cuarta frase:\n",
    "\n",
    "      \"Oro, oro, oro: gritó al ver el camión\"\n",
    "      \n",
    "Cómo resultado podemos ver por ejemplo el primer valor  \" (0, 13)\t3 \" que nos indica que la palabra de índice 13 (oro), aparece 3 veces en esa frase, lo que podemos comprobar que es cierto.\n",
    "\n"
   ]
  },
  {
   "cell_type": "code",
   "execution_count": 12,
   "metadata": {},
   "outputs": [
    {
     "name": "stdout",
     "output_type": "stream",
     "text": [
      "{'cargamento': 2, 'de': 5, 'oro': 13, 'dañado': 4, 'por': 15, 'el': 6, 'fuego': 9, 'la': 11, 'entrega': 8, 'plata': 14, 'llegó': 12, 'en': 7, 'camión': 1, 'color': 3, 'un': 16, 'gritó': 10, 'al': 0, 'ver': 17}\n",
      "  (0, 13)\t3\n",
      "  (0, 6)\t1\n",
      "  (0, 1)\t1\n",
      "  (0, 10)\t1\n",
      "  (0, 0)\t1\n",
      "  (0, 17)\t1\n"
     ]
    }
   ],
   "source": [
    "print(cv.vocabulary_)\n",
    "print(info[3])"
   ]
  },
  {
   "cell_type": "markdown",
   "metadata": {},
   "source": [
    "#### Ejercicio 3\n",
    "\n",
    "Usar `CountVectorizer` para vectorizar las críticas de cine de IMDB, tanto el conjunto de entrenamiento como el de prueba. Tener en cuenta que el vectorizador se ajusta sólamente sobre el conjunto de entrenamiento, y se aplica tanto sobre entrenamiento como sobre prueba. Además, en este caso puede ser conveniente usar las opciones `min_df` y `stop_words`. Antes de usarlas, incluir una **explicación detallada** de las mismas.  "
   ]
  },
  {
   "cell_type": "markdown",
   "metadata": {},
   "source": [
    "* min_df: Con este valor le digo al método que no tenga en cuenta las palabras que aparecen con poca frecuencia en las reviews, que en este caso he puesto como requisito que aparezca más de 10 veces\n",
    "\n",
    "* stop_words: Con este otro atributo elimino palabras que no son relevantes(que se repiten mucho) y aportan poca información como por ejemplo: My, and,you.... Al estar las reviews en inglés lo especifico para que identifique las palabras de este idioma\n",
    "\n",
    "* Finalmente ajusto y transformo el conjunto de entrenamiento , para el conjunto de prueba(test) lo aplico  pero sin transformarlo"
   ]
  },
  {
   "cell_type": "code",
   "execution_count": 13,
   "metadata": {},
   "outputs": [],
   "source": [
    "cv=CountVectorizer(stop_words='english',min_df=10)\n",
    "\n",
    "data_train=cv.fit_transform(text_train)\n",
    "# Aplicamos la transformación al conjunto de prueba\n",
    "data_test = cv.transform(text_test)"
   ]
  },
  {
   "cell_type": "markdown",
   "metadata": {},
   "source": [
    "## Parte 2: aplicación de modelos lineales a análisis de sentimientos"
   ]
  },
  {
   "cell_type": "markdown",
   "metadata": {},
   "source": [
    "#### Ejercicio 4\n",
    "\n",
    "Una vez los datos (entrenamiento y prueba) estén vectorizados, aplicar los siguientes clasificadores de scikit learn y medir el rendimiento obtenido:\n",
    "\n",
    "* `LogisticRegression`\n",
    "* `LinearSVC`\n",
    "\n",
    "Probar en cada caso con distintos valores del parámetro `C` de regularización, para obtener el mejor rendimiento sobre el conjunto de test. Explicar claramente el efecto que tiene variar ese parámetro en un sentido o en otro. "
   ]
  },
  {
   "cell_type": "code",
   "execution_count": 14,
   "metadata": {},
   "outputs": [],
   "source": [
    "from sklearn.linear_model import LogisticRegression\n",
    "from sklearn.model_selection import train_test_split\n",
    "\n",
    "y_train=reviews_train.target\n",
    "y_test=reviews_test.target"
   ]
  },
  {
   "cell_type": "markdown",
   "metadata": {},
   "source": [
    "# Regresión logística"
   ]
  },
  {
   "cell_type": "markdown",
   "metadata": {},
   "source": [
    "* Aquí los que vamos a hacer es aplicar regresión logistica con distintos valores de C y calcularemos el rendimiento en varios casos.\n",
    "\n",
    "* Usando C controlamos la regularización, ya que al reducir el valor de C aumentamos la regularización\n",
    "\n",
    "* Podemos ver para el primer y en el tercer caso que el rendimiento es prácticamente perfecto mientras que en el de prueba podría adaptase mejor, seguramente se deba a que se está sobreajustando. Por otro lado en el caso de C=0.1 el rendimiento baja un poco en el connjunto de entrenamiento pero aumenta un poco en el de prueba"
   ]
  },
  {
   "cell_type": "code",
   "execution_count": 15,
   "metadata": {},
   "outputs": [
    {
     "name": "stdout",
     "output_type": "stream",
     "text": [
      "El rendimiento para el conjunto de entrenamiento con c=1 es de: 0.996\n",
      "El rendimiento para el conjunto de prueba con c=1 es de: 0.854\n",
      "\n",
      "El rendimiento para el conjunto de entrenamiento con c=0.1 es de: 0.965\n",
      "El rendimiento para el conjunto de prueba con c=0.1 es de: 0.873\n",
      "\n",
      "El rendimiento para el conjunto de entrenamiento con c=50 es de: 1.0\n",
      "El rendimiento para el conjunto de prueba con c=50 es de: 0.837\n"
     ]
    }
   ],
   "source": [
    "logreg = LogisticRegression(max_iter=1000).fit(data_train, y_train)\n",
    "\n",
    "print(\"El rendimiento para el conjunto de entrenamiento con c=1 es de:\", round(logreg.score(data_train, y_train), 3))\n",
    "print(\"El rendimiento para el conjunto de prueba con c=1 es de:\", round(logreg.score(data_test, y_test), 3))\n",
    "\n",
    "\n",
    "logreg = LogisticRegression(C=0.1,max_iter=1000).fit(data_train, y_train)\n",
    "\n",
    "print()\n",
    "\n",
    "print(\"El rendimiento para el conjunto de entrenamiento con c=0.1 es de:\", round(logreg.score(data_train, y_train), 3))\n",
    "print(\"El rendimiento para el conjunto de prueba con c=0.1 es de:\", round(logreg.score(data_test, y_test), 3))\n",
    "\n",
    "logreg = LogisticRegression(C=50,max_iter=1000).fit(data_train, y_train)\n",
    "\n",
    "print()\n",
    "\n",
    "print(\"El rendimiento para el conjunto de entrenamiento con c=50 es de:\", round(logreg.score(data_train, y_train), 3))\n",
    "print(\"El rendimiento para el conjunto de prueba con c=50 es de:\", round(logreg.score(data_test, y_test), 3))\n"
   ]
  },
  {
   "cell_type": "markdown",
   "metadata": {},
   "source": [
    "# SVC"
   ]
  },
  {
   "cell_type": "markdown",
   "metadata": {},
   "source": [
    "* Aqui vamos a usar LinearSVC, en este caso el parametro C (1 por defecto) indica la intensidad de la regularización, es decir, a mayor valor, menos regularización, si la regularización es menor, los modelos serán mas simples pero en consecuencia nos arriesgamos a tener un infrajuste y viceversa con una regularización mayor y el sobreajuste.\n",
    "\n"
   ]
  },
  {
   "cell_type": "code",
   "execution_count": 16,
   "metadata": {},
   "outputs": [],
   "source": [
    "from sklearn.svm import SVC\n",
    "svc = SVC()\n",
    "\n",
    "cv=CountVectorizer(stop_words='english',min_df=10)\n",
    "data_train=cv.fit_transform(text_train)\n",
    "data_test = cv.transform(text_test)"
   ]
  },
  {
   "cell_type": "markdown",
   "metadata": {},
   "source": [
    "Ejecutar el siguiente clasificador con distintos valores de C hace que mi ordenador tarde muchisimo, por lo que he adjuntado aqui los resultados:\n",
    "\n",
    "Valor de c por defecto:\n",
    "* El rendimiento sobre conjunto de entrenamiento por defecto es: 0.96\n",
    "* El rendimiento sobre conjunto de prueba por defecto es: 0.87\n",
    "\n",
    "Valor de C=50;\n",
    "* El rendimiento sobre conjunto de entrenamiento con un valor c de 50 es: 1.0\n",
    "* Rendimiento sobre conjunto de prueba para con un valor c de 50 es: 0.86\n",
    "\n",
    "Valor de C=0,1\n",
    "\n",
    "* Rendimiento sobre conjunto de entrenamiento con un valor c de 0.1 es: 0.82\n",
    "* Rendimiento sobre conjunto de prueba con un valor c de 0.1 es: 0.8\n"
   ]
  },
  {
   "cell_type": "code",
   "execution_count": 17,
   "metadata": {},
   "outputs": [
    {
     "name": "stdout",
     "output_type": "stream",
     "text": [
      "El rendimiento sobre conjunto de entrenamiento por defecto es: 0.96\n",
      "El rendimiento sobre conjunto de prueba por defecto es: 0.87\n"
     ]
    }
   ],
   "source": [
    "svcb = svc.fit(data_train, y_train)\n",
    "print(\"El rendimiento sobre conjunto de entrenamiento por defecto es:\", round(svcb.score(data_train, y_train), 2))\n",
    "print(\"El rendimiento sobre conjunto de prueba por defecto es:\", round(svcb.score(data_test, y_test), 2))\n"
   ]
  },
  {
   "cell_type": "code",
   "execution_count": 18,
   "metadata": {},
   "outputs": [
    {
     "name": "stdout",
     "output_type": "stream",
     "text": [
      "El rendimiento sobre conjunto de entrenamiento con un valor c de 50 es: 1.0\n",
      "El rendimiento sobre conjunto de prueba con un valor c de 50 es: 0.86\n"
     ]
    }
   ],
   "source": [
    "svc50 = SVC(C=50).fit(data_train, y_train)\n",
    "print(\"El rendimiento sobre conjunto de entrenamiento con un valor c de 50 es:\", round(svc50.score(data_train, y_train), 2))\n",
    "print(\"El rendimiento sobre conjunto de prueba con un valor c de 50 es:\", round(svc50.score(data_test, y_test), 2))"
   ]
  },
  {
   "cell_type": "code",
   "execution_count": 19,
   "metadata": {},
   "outputs": [
    {
     "name": "stdout",
     "output_type": "stream",
     "text": [
      "El rendimiento sobre conjunto de entrenamiento con un valor c de 0.1 es: 0.82\n",
      "El rendimiento sobre conjunto de prueba con un valor c de 0.1 es: 0.8\n"
     ]
    }
   ],
   "source": [
    "svc01 = SVC(C=0.1).fit(data_train, y_train)\n",
    "print(\"El rendimiento sobre conjunto de entrenamiento con un valor c de 0.1 es:\", round(svc01.score(data_train, y_train), 2))\n",
    "print(\"El rendimiento sobre conjunto de prueba con un valor c de 0.1 es:\", round(svc01.score(data_test, y_test), 2))"
   ]
  },
  {
   "cell_type": "markdown",
   "metadata": {},
   "source": [
    "#### Ejercicio 5\n",
    "\n",
    "Con los respectivos modelos aprendidos, mostrar algunas críticas concretas y la predicción que realiza el modelo con `predict`. \n",
    "\n",
    "Además, interpretar lo que devuelve `predict_proba` y `decision_function`, respectivamente, sobre esas críticas. Es decir, **explicar** cómo se obtienen los valores de dichos métodos, y cómo se interpretan desde el punto de vista de la predicción que se realiza. "
   ]
  },
  {
   "cell_type": "markdown",
   "metadata": {},
   "source": [
    " * Con estos métodos lo que voy as hacer es calcular para los modelos aprendidos un par de críticas, es decir, clasificarlas como una review positiva y negativa y también vamos a mostrar como de aproximada es esa clasificación.\n",
    " \n",
    "* Por ejemplo en el caso de la segunda predición (predict2) obtenemos un valor de clasificación de 0=negativa y una probabilidad de 0.99 de pertenecer a esa clase mientras que en el caso del primero es mucho menos fiable"
   ]
  },
  {
   "cell_type": "code",
   "execution_count": 20,
   "metadata": {},
   "outputs": [
    {
     "name": "stdout",
     "output_type": "stream",
     "text": [
      "el primer valor (1 o 0)  indica la claisficación de esta ( neg=0 o pos=1)\n",
      "el 2º valor indica la probabilidad de que esa sea clasificación\n",
      "[1] [[0.00315479 0.99684521]]\n",
      "[0] [[9.99938458e-01 6.15418658e-05]]\n"
     ]
    }
   ],
   "source": [
    "predict = logreg.predict(data_train[5])\n",
    "predict2 = logreg.predict(data_train[4])\n",
    "prob_predict= logreg.predict_proba(data_train[5])\n",
    "prob_predict2 = logreg.predict_proba(data_train[4])\n",
    "print('el primer valor (1 o 0)  indica la claisficación de esta ( neg=0 o pos=1)')\n",
    "print('el 2º valor indica la probabilidad de que esa sea clasificación')\n",
    "\n",
    "print(predict,prob_predict)\n",
    "print(predict2,prob_predict2)"
   ]
  },
  {
   "cell_type": "code",
   "execution_count": 25,
   "metadata": {},
   "outputs": [
    {
     "name": "stdout",
     "output_type": "stream",
     "text": [
      "[0.66253829] [-1.00032417]\n"
     ]
    }
   ],
   "source": [
    "a = svc.decision_function(data_train[5])\n",
    "b = svc.decision_function(data_train[4])\n",
    "print(a,b)"
   ]
  },
  {
   "cell_type": "markdown",
   "metadata": {},
   "source": [
    "--------------------------------"
   ]
  },
  {
   "cell_type": "markdown",
   "metadata": {},
   "source": [
    "## Parte 3: modelos lineales para reconocimiento de dígitos escritos a mano\n",
    "\n",
    "\n",
    "La función `load_digits` nos permite cargar una versión reducida de un conjunto de imágenes de dígitos escritos a mano (ver detalles en el manual):"
   ]
  },
  {
   "cell_type": "code",
   "execution_count": 26,
   "metadata": {},
   "outputs": [],
   "source": [
    "import matplotlib.pyplot as plt\n",
    "from sklearn.datasets import load_digits"
   ]
  },
  {
   "cell_type": "code",
   "execution_count": 27,
   "metadata": {},
   "outputs": [],
   "source": [
    "digits = load_digits()"
   ]
  },
  {
   "cell_type": "markdown",
   "metadata": {},
   "source": [
    "Podemos incluso visualizar los dígitos. Por ejemplo, este es el primero de ellos (un cero):"
   ]
  },
  {
   "cell_type": "code",
   "execution_count": 28,
   "metadata": {},
   "outputs": [
    {
     "data": {
      "text/plain": [
       "<Figure size 640x480 with 0 Axes>"
      ]
     },
     "metadata": {},
     "output_type": "display_data"
    },
    {
     "data": {
      "image/png": "[encoded data removed]",
      "text/plain": [
       "<Figure size 480x480 with 1 Axes>"
      ]
     },
     "metadata": {},
     "output_type": "display_data"
    },
    {
     "name": "stdout",
     "output_type": "stream",
     "text": [
      "0\n"
     ]
    }
   ],
   "source": [
    "plt.gray()\n",
    "plt.matshow(digits.images[0]) \n",
    "plt.show() \n",
    "print(digits.target[0])"
   ]
  },
  {
   "cell_type": "markdown",
   "metadata": {},
   "source": [
    "###  Clasificación de dígitos escritos a mano con regresión logística (multiclase)"
   ]
  },
  {
   "cell_type": "markdown",
   "metadata": {},
   "source": [
    "#### Ejercicio 6\n",
    "\n",
    "Se pide aplicar regresión logística para obtener un clasificador para este problema multiclase. Probar con varios valores del parámetro `C` para obtener el mejor rendimiento sobre un conjunto de prueba. \n",
    "\n",
    "Algunas observaciones:\n",
    "\n",
    "* Originalmente, en `digits.images` tenemos un array con 1797 arrays 8x8 (es decir, cada imagen viene en 64 pixeles distribuidos en 8 filas y 8 clolumnas). Para poder aplicar los clasificadores, cada imagen debe ser un vector de 64 componentes. Esto se consigue de manera sencilla con el método `reshape`de numpy. \n",
    "* Es necesario separar el conjunto de imágenes en entrenamiento y prueba. No olvidar hacerlo de manera estratificada (usando la opción `stratify`de `train_test_split`)\n",
    "* Medir el rendimiento usando `score`. "
   ]
  },
  {
   "cell_type": "code",
   "execution_count": 29,
   "metadata": {},
   "outputs": [],
   "source": [
    "import numpy as np\n",
    "import matplotlib.pyplot as plt\n",
    "from sklearn.model_selection import train_test_split\n",
    "from sklearn.linear_model import LogisticRegression\n",
    "from sklearn import datasets\n",
    "from sklearn.metrics import accuracy_score"
   ]
  },
  {
   "cell_type": "markdown",
   "metadata": {},
   "source": [
    "En este apartado lo que estoy haciendo es:\n",
    "\n",
    "* obtener el conjunto de datos, las imagenes y las etiquetas(clasificación)\n",
    "\n",
    "* también defino algunos valores de C como indica el enunciado para encontrar uno que maximice el rendimiento\n",
    "\n",
    "* Voy entrenando para cada valor de este el modelo de regresión logística y comparando el rendimiento y el modelo, si es mejor lo almaceno como el mejor\n",
    "\n",
    "* Finalmente me quedo el mejor y lo muestro"
   ]
  },
  {
   "cell_type": "code",
   "execution_count": 30,
   "metadata": {},
   "outputs": [],
   "source": [
    "def best_model():    \n",
    "    # Cargar el conjunto de datos de dígitos\n",
    "    digits = datasets.load_digits()\n",
    "    # Obtener las imágenes y las etiquetas del conjunto de digitos\n",
    "    images = digits.images.reshape((len(digits.images), -1))\n",
    "    labels = digits.target\n",
    "\n",
    "    # Definimos múltiples valores de C aumentando la regulzarición para  probar con estos valores la regresión logística\n",
    "    C_values = [0.001, 0.01, 0.1, 10, 50, 100]\n",
    "\n",
    "    #Guardo en estas variables las variables que maximicen el rendimiento\n",
    "    best_score = 0\n",
    "    best_C = 0\n",
    "\n",
    "    # Dividimos el conjunto de datos en entrenamiento pasandole las images y las etiquetas\n",
    "    X_train, X_test, y_train, y_test = train_test_split(images, labels, test_size=0.2, random_state=42, stratify=labels)\n",
    "\n",
    "\n",
    "    for c in C_values:\n",
    "        # Creamos y entrenamos el modelo de regresión para el valor correspondiente de C\n",
    "        model = LogisticRegression(C=c, max_iter=10000, random_state=42)\n",
    "        model.fit(X_train, y_train)\n",
    "\n",
    "        # Medimos el rendimiento en el conjunto de prueba\n",
    "        score = model.score(X_test, y_test)\n",
    "\n",
    "        # Actualizar el mejor rendimiento y el mejor valor de C\n",
    "        if score > best_score:\n",
    "            best_score = score\n",
    "            best_C = c\n",
    "            best_model = model\n",
    "\n",
    "\n",
    "    # Nos quedamos el mejor modelo\n",
    "    \n",
    "    score = best_model.score(X_test, y_test)\n",
    "    \n",
    "    y_pred = best_model.predict(X_test)\n",
    "\n",
    "    print(f\"El mejor valor de C es : {best_C}\")\n",
    "    print(f\" El mejor rendimiento en el conjunto de prueba es: {score}\")\n",
    "    \n",
    "    return best_model,y_pred\n",
    "    \n",
    "    "
   ]
  },
  {
   "cell_type": "code",
   "execution_count": 31,
   "metadata": {},
   "outputs": [
    {
     "name": "stdout",
     "output_type": "stream",
     "text": [
      "El mejor valor de C es : 0.01\n",
      " El mejor rendimiento en el conjunto de prueba es: 0.9611111111111111\n"
     ]
    },
    {
     "data": {
      "text/plain": [
       "(LogisticRegression(C=0.01, max_iter=10000, random_state=42),\n",
       " array([5, 2, 8, 6, 7, 2, 6, 2, 6, 5, 0, 5, 9, 3, 4, 4, 2, 4, 4, 9, 6, 3,\n",
       "        8, 1, 2, 5, 6, 0, 3, 4, 6, 7, 2, 6, 6, 6, 8, 5, 0, 9, 1, 7, 9, 6,\n",
       "        5, 7, 5, 2, 7, 5, 0, 1, 5, 5, 3, 2, 4, 0, 0, 2, 7, 5, 6, 1, 3, 7,\n",
       "        6, 5, 7, 0, 9, 0, 3, 8, 2, 5, 7, 2, 3, 5, 9, 3, 2, 7, 9, 6, 8, 1,\n",
       "        0, 8, 2, 9, 4, 8, 1, 2, 7, 8, 4, 2, 6, 9, 3, 7, 3, 9, 6, 1, 1, 0,\n",
       "        9, 2, 1, 6, 3, 4, 8, 7, 1, 0, 0, 4, 6, 5, 1, 2, 8, 1, 3, 0, 0, 8,\n",
       "        6, 4, 3, 9, 3, 3, 3, 3, 4, 7, 0, 0, 1, 9, 5, 8, 1, 5, 0, 6, 6, 6,\n",
       "        6, 1, 4, 7, 6, 7, 7, 8, 7, 3, 6, 5, 9, 0, 3, 8, 0, 9, 8, 1, 9, 5,\n",
       "        9, 5, 8, 9, 9, 7, 9, 1, 9, 5, 4, 7, 3, 0, 4, 9, 7, 7, 5, 6, 5, 8,\n",
       "        3, 4, 5, 4, 9, 2, 5, 5, 2, 1, 3, 8, 8, 9, 3, 6, 1, 0, 1, 4, 0, 5,\n",
       "        5, 6, 6, 7, 4, 3, 8, 4, 8, 0, 7, 9, 2, 1, 4, 8, 4, 2, 4, 0, 0, 0,\n",
       "        2, 6, 7, 0, 4, 5, 2, 2, 9, 0, 4, 6, 8, 2, 3, 9, 2, 3, 0, 6, 8, 7,\n",
       "        1, 4, 4, 1, 1, 6, 3, 8, 1, 2, 5, 7, 8, 3, 2, 0, 3, 4, 1, 9, 9, 9,\n",
       "        6, 3, 7, 1, 6, 9, 4, 7, 1, 8, 1, 3, 0, 5, 3, 4, 3, 9, 3, 5, 4, 7,\n",
       "        4, 1, 5, 1, 5, 0, 9, 8, 4, 2, 3, 8, 4, 1, 2, 0, 1, 1, 4, 4, 5, 7,\n",
       "        5, 0, 3, 2, 2, 4, 2, 7, 7, 8, 7, 6, 3, 1, 1, 5, 8, 8, 8, 6, 7, 2,\n",
       "        7, 8, 9, 4, 2, 0, 3, 4]))"
      ]
     },
     "execution_count": 31,
     "metadata": {},
     "output_type": "execute_result"
    }
   ],
   "source": [
    "best_model()"
   ]
  },
  {
   "cell_type": "markdown",
   "metadata": {},
   "source": [
    "### Clasificación binaria usando regresión logística"
   ]
  },
  {
   "cell_type": "markdown",
   "metadata": {},
   "source": [
    "#### Ejercicio 7\n",
    "\n",
    "Una vez encontrado un buen clasificador para el problema multiclase, mostrar la matriz de confusión finalmente obtenida sobre el conjunto de prueba. También mostrar las imágenes de un par de dígitos respectivamente hayan sido bien y mal clasificados.  Usando `predict_proba` mostrar las predicciones que realiza el modelo sobre esos dos dígitos, y comentar los resultados. \n",
    "\n",
    "Deducir de la matriz de confusión un par de dígitos que en general cueste más trabajo distinguir entre sí, y extraer de los datos sólo las imágenes correspondientes a esos dos dígitos. Por ejemplo: si se observa que entre el 8 y el 9 hay más errores de predicción, habría que extraer todas las imágenes de ochos y nueves y crear un conjunto de datos con ellas.  \n",
    "\n",
    "Crear a partir de esos datos extraidos,  conjuntos de entrenamiento y prueba para aprender con regresión logística un clasificador que sea \"especialista\" es distinguir un dígito del otro. Como antes, probar con varios valores del parámetro para intentar obtener un buen rendimiento sobre el conjunto de prueba.\n",
    "\n",
    "**Nota**: para extraer los datos correspondiente a un dígito, aplicar selección condicional de numpy. Por ejemplo, con `digits.target==8` obtenemos un array booleano en el que están a `True` solo las posiciones de los ejemplos cuyo target es 8. Si tenemos un array `a`, entonces `a[digits.target ==8]` es el array en el que se han seleccionado sólo esas posiciones.  \n",
    "`  "
   ]
  },
  {
   "cell_type": "code",
   "execution_count": 32,
   "metadata": {},
   "outputs": [],
   "source": [
    "import numpy as np\n",
    "import matplotlib.pyplot as plt\n",
    "from sklearn.model_selection import train_test_split\n",
    "from sklearn.linear_model import LogisticRegression\n",
    "from sklearn import datasets\n",
    "from sklearn.metrics import confusion_matrix, accuracy_score\n",
    "from sklearn.utils.multiclass import unique_labels"
   ]
  },
  {
   "cell_type": "markdown",
   "metadata": {},
   "source": [
    "* Primero para representar la matriz de  confusión le paso el mejor valor de C que he obtenido en el apartaod anterior con el mejor modelo, que es un valor de C = 0.01\n",
    "\n",
    "* Después para crear un clasificador especializado, me quedo con los elementos parecidos, que en este caso son los números 8 y 9 . Acto seguido creo un conjunto de entrenamiento para estos valores y con múltiples valores de c para calcular el óptimo (como hice en el apartado anterior).\n",
    "\n",
    "* Finalmente calculo los rendimientos y me quedo el mejor\n",
    "\n",
    "\n",
    "* Referencias:\n",
    "    \n",
    "    https://stackoverflow.com/questions/19233771/sklearn-plot-confusion-matrix-with-labels\n",
    "    \n",
    "    https://www.jcchouinard.com/confusion-matrix-in-scikit-learn/"
   ]
  },
  {
   "cell_type": "code",
   "execution_count": 36,
   "metadata": {},
   "outputs": [
    {
     "name": "stderr",
     "output_type": "stream",
     "text": [
      "C:\\Users\\alarc\\anaconda3\\Lib\\site-packages\\sklearn\\utils\\deprecation.py:87: FutureWarning: Function plot_confusion_matrix is deprecated; Function `plot_confusion_matrix` is deprecated in 1.0 and will be removed in 1.2. Use one of the class methods: ConfusionMatrixDisplay.from_predictions or ConfusionMatrixDisplay.from_estimator.\n",
      "  warnings.warn(msg, category=FutureWarning)\n"
     ]
    },
    {
     "data": {
      "image/png": "[encoded data removed]",
      "text/plain": [
       "<Figure size 640x480 with 2 Axes>"
      ]
     },
     "metadata": {},
     "output_type": "display_data"
    }
   ],
   "source": [
    "import matplotlib.pyplot as plt\n",
    "from sklearn.metrics import plot_confusion_matrix\n",
    "\n",
    "digits = datasets.load_digits()\n",
    "# Obtener las imágenes y las etiquetas del conjunto de digitos\n",
    "images = digits.images.reshape((len(digits.images), -1))\n",
    "labels = digits.target\n",
    "X_train, X_test, y_train, y_test = train_test_split(images, labels, test_size=0.2, random_state=42, stratify=labels)\n",
    "\n",
    "\n",
    "# Entrenar el modelo de regresión logística\n",
    "model = LogisticRegression(C=0.01, max_iter=10000, random_state=42)\n",
    "model.fit(X_train, y_train)\n",
    "\n",
    "# Visualizar la matriz de confusión\n",
    "plot_confusion_matrix(model, X_test, y_test)\n",
    "plt.title(\"Confusion Matrix\")\n",
    "plt.show()"
   ]
  },
  {
   "cell_type": "code",
   "execution_count": 39,
   "metadata": {},
   "outputs": [
    {
     "name": "stdout",
     "output_type": "stream",
     "text": [
      "El rendimiento en el conjunto de prueba es : 1.0\n"
     ]
    }
   ],
   "source": [
    "# Nos quedamos con indices de números parecidos\n",
    "difficult_indices = np.where(np.isin(y_test, [8,9]))[0]\n",
    "\n",
    "# Extraemos de estos las imágenes y etiquetas correspondientes\n",
    "X_difficult = X_test[difficult_indices]\n",
    "y_difficult = y_test[difficult_indices]\n",
    "best_score=0\n",
    "\n",
    "# Crear el conjunto de entrenamiento y de prueba para el clasificador\n",
    "X_train_difficult, X_test_difficult, y_train_difficult, y_test_difficult = train_test_split(\n",
    "    X_difficult, y_difficult, test_size=0.2, random_state=42, stratify=y_difficult)\n",
    "\n",
    "# Múltiples valores de C\n",
    "C = [0.001, 0.01, 0.1, 1, 10, 50]\n",
    "\n",
    "for c in C:\n",
    "    # Entrenamos un clasificador especializado para los valores dificiles con múltiples valores de C\n",
    "    model = LogisticRegression(C=c, max_iter=10000, random_state=42)\n",
    "    model.fit(X_train_difficult, y_train_difficult)\n",
    "\n",
    "    # Calculamos el rendimiento\n",
    "    score = model.score(X_test_difficult, y_test_difficult)\n",
    "    \n",
    "    #Actualizamos si es mejor y lo devolvemos al final\n",
    "    if score > best_score:\n",
    "        best_score = score\n",
    "        \n",
    "print(f\"El rendimiento en el conjunto de prueba es : {best_score}\")"
   ]
  },
  {
   "cell_type": "markdown",
   "metadata": {},
   "source": [
    "### Clasificación de dígitos con SVC (multiclase)"
   ]
  },
  {
   "cell_type": "markdown",
   "metadata": {},
   "source": [
    "#### Ejercicio 8\n",
    "\n",
    "Volviendo al problema multiclase de reconocimiento de dígitos, aplicar ahora máquinas de vectores soporte con kernel (`SVC`) para el problema de reconocer los dígitos. Probar al menos con varios valores de los parámetros `C` y `gamma`, para obtener un buen rendimiento sobre el conjunto de prueba. Explicar el papel que juegan esos dos parámetros. "
   ]
  },
  {
   "cell_type": "markdown",
   "metadata": {},
   "source": [
    "* En este último apartado tendremos que comprobar para SVC varios valores de C y Gamma para encontrar aquellos que maximicen el rendimiento\n",
    "\n",
    "* C : Este atributo define la regularización, como  ya he dicho antes es inversamente proporcional, es decir, a mayor valor de C menor será la regularización y por lo tanto mayor de la probabilida de sobreajuste \n",
    "\n",
    "* Gamma: Con este valor especificamos la importancia de la distancia a cada ejemplo del conjunto, un valor de gamma más grande hace que el modelo sea más sensible"
   ]
  },
  {
   "cell_type": "code",
   "execution_count": 38,
   "metadata": {},
   "outputs": [
    {
     "name": "stdout",
     "output_type": "stream",
     "text": [
      "Los parámetros que maximizan el rendimiento son C:10 y un valor gamma de :0.001\n",
      "Mejor rendimiento en el conjunto de prueba: 0.99\n"
     ]
    }
   ],
   "source": [
    "from sklearn.svm import SVC\n",
    "\n",
    "# Definimos  valores a probar para los parámetros C y gamma\n",
    "valores = {'C': [0.001, 0.01, 0.1, 10, 50], 'gamma': [0.001, 0.01, 0.1, 10, 100]}\n",
    "\n",
    "# Inicializamos variables para almacenar el mejor rendimiento y los mejores parámetros\n",
    "best_score = 0\n",
    "best_params = {}\n",
    "\n",
    "# Iteramos sobre los valores de C y gamma\n",
    "for c in valores['C']:\n",
    "    for g in valores['gamma']:\n",
    "        # Creo y entreno el modelo \n",
    "        svm = SVC(kernel='rbf', C=c, gamma=g)\n",
    "        \n",
    "        svm.fit(X_train, y_train)\n",
    "\n",
    "        # Realizo las predicciones en el conjunto de prueba\n",
    "        y_pred = svm.predict(X_test)\n",
    "\n",
    "        # Calculo el rendimiento\n",
    "        score = accuracy_score(y_test, y_pred)\n",
    "\n",
    "        # Actualizo los parámetros si se encuentra un modelo con mejor rendimiento\n",
    "        if score > best_score:\n",
    "            best_score = score\n",
    "            params = {'C': c, 'gamma': g}\n",
    "\n",
    "            \n",
    "# Mostramos por pantalla los valores valor de C y Gamma en el svm, con el rendimiento que estos consiguen\n",
    "print(\"Los parámetros que maximizan el rendimiento son C:\" + str(params['C']) + \" y un valor gamma de :\" + str(params['gamma']))\n",
    "print(\"Mejor rendimiento en el conjunto de prueba:\", round(best_score, 2))"
   ]
  },
  {
   "cell_type": "code",
   "execution_count": null,
   "metadata": {},
   "outputs": [],
   "source": []
  }
 ],
 "metadata": {
  "kernelspec": {
   "display_name": "Python 3 (ipykernel)",
   "language": "python",
   "name": "python3"
  },
  "language_info": {
   "codemirror_mode": {
    "name": "ipython",
    "version": 3
   },
   "file_extension": ".py",
   "mimetype": "text/x-python",
   "name": "python",
   "nbconvert_exporter": "python",
   "pygments_lexer": "ipython3",
   "version": "3.11.5"
  }
 },
 "nbformat": 4,
 "nbformat_minor": 2
}
